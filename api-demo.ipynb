{
 "cells": [
  {
   "cell_type": "markdown",
   "metadata": {},
   "source": [
    "### setup"
   ]
  },
  {
   "cell_type": "code",
   "execution_count": null,
   "metadata": {},
   "outputs": [],
   "source": [
    "import requests\n",
    "import json\n",
    "\n",
    "url_base = \"https://sdt-validation-server.urban.org/api\"\n",
    "#url_base = \"http://127.0.0.1:8000/api\"\n",
    "url_stub = f\"{url_base}\" "
   ]
  },
  {
   "attachments": {},
   "cell_type": "markdown",
   "metadata": {},
   "source": [
    "/users/login/"
   ]
  },
  {
   "cell_type": "code",
   "execution_count": null,
   "metadata": {},
   "outputs": [],
   "source": [
    "engine_account = {\n",
    "    \"email\": \"engine@example.com\",  # engine username\n",
    "    \"password\": \"\"   # engine password\n",
    "}\n",
    "\n",
    "user_account = {\n",
    "    \"email\": \"\",\n",
    "    \"password\": \"\"\n",
    "}\n",
    "\n",
    "r = requests.post(f\"{url_base}/users/login/\", data=engine_account)\n",
    "r2 = requests.post(f\"{url_base}/users/login/\", data=user_account)\n"
   ]
  },
  {
   "cell_type": "code",
   "execution_count": null,
   "metadata": {},
   "outputs": [],
   "source": [
    "print(r.status_code)\n",
    "print(r.reason)\n",
    "print(r.text)\n",
    "\n",
    "engine_token = r.json()[\"token\"]\n",
    "print(engine_token)\n",
    "\n",
    "engine_headers = {\"Authorization\": f\"Token {engine_token}\"}\n",
    "\n",
    "print(r2.status_code)\n",
    "print(r2.reason)\n",
    "print(r2.text)\n",
    "\n",
    "user_token = r2.json()[\"token\"]\n",
    "print(user_token)\n",
    "\n",
    "headers = {\"Authorization\": f\"Token {user_token}\"}\n"
   ]
  },
  {
   "attachments": {},
   "cell_type": "markdown",
   "metadata": {},
   "source": [
    "### /api/job/"
   ]
  },
  {
   "attachments": {},
   "cell_type": "markdown",
   "metadata": {},
   "source": [
    "#### submit new job"
   ]
  },
  {
   "cell_type": "code",
   "execution_count": null,
   "metadata": {},
   "outputs": [],
   "source": [
    "#file = {'script': ('R-scripts/puf-table.R')}\n",
    "files = {'script': open('R-scripts/puf-table.R', 'rb')}\n",
    "\n",
    "payload = {\n",
    "    \"title\": \"Example job\",\n",
    "    \"dataset_id\": \"puf_2012\",\n",
    "}\n",
    "print(url_stub)\n",
    "r = requests.post(f\"{url_stub}/job/jobs/\", headers=headers, files=files, data=payload)"
   ]
  },
  {
   "cell_type": "code",
   "execution_count": null,
   "metadata": {},
   "outputs": [],
   "source": [
    "import uuid\n",
    "print(r.status_code)\n",
    "print(r.reason)\n",
    "print(r.text)\n",
    "\n",
    "\n",
    "for key, value in r.json().items():\n",
    "    print(key, value)\n",
    "\n",
    "job_id_str = r.json()[\"id\"]\n",
    "job_id = uuid.UUID(r.json()[\"id\"])"
   ]
  },
  {
   "attachments": {},
   "cell_type": "markdown",
   "metadata": {},
   "source": [
    "#### list all jobs"
   ]
  },
  {
   "cell_type": "code",
   "execution_count": null,
   "metadata": {},
   "outputs": [],
   "source": [
    "r = requests.get(f\"{url_stub}/job/jobs/\", headers=headers)\n",
    "print(r.status_code)\n",
    "print(r.reason)\n",
    "print(r.text)\n",
    "\n",
    "for item in r.json():\n",
    "    print(item)"
   ]
  },
  {
   "attachments": {},
   "cell_type": "markdown",
   "metadata": {},
   "source": [
    "#### retrieve particular job"
   ]
  },
  {
   "cell_type": "code",
   "execution_count": null,
   "metadata": {},
   "outputs": [],
   "source": [
    "print(job_id)\n",
    "r = requests.get(f\"{url_stub}/job/jobs/{job_id}/\", headers=headers)\n",
    "print(r.status_code)\n",
    "print(r.reason)\n",
    "print(r.text)\n",
    "\n",
    "for key, value in r.json().items():\n",
    "    print(key, value)\n"
   ]
  },
  {
   "attachments": {},
   "cell_type": "markdown",
   "metadata": {},
   "source": [
    "#### engine posts status update"
   ]
  },
  {
   "cell_type": "code",
   "execution_count": null,
   "metadata": {},
   "outputs": [],
   "source": [
    "\n",
    "run_id = 1\n",
    "print(job_id)\n",
    "payload = {\n",
    "    \"status\": {'ok': True, 'info': 'completed', 'errormsg': None}\n",
    "}\n",
    "payload_json = json.dumps(payload)\n",
    "headers[\"Content-Type\"] = \"application/json\"\n",
    "\n",
    "r = requests.patch(f\"{url_stub}/job/jobs/{job_id}/runs/{run_id}/\", headers=headers, data=payload_json)"
   ]
  },
  {
   "cell_type": "code",
   "execution_count": null,
   "metadata": {},
   "outputs": [],
   "source": [
    "print(r.status_code)\n",
    "print(r.reason)\n",
    "for key, value in r.json().items():\n",
    "    print(key, value)"
   ]
  },
  {
   "attachments": {},
   "cell_type": "markdown",
   "metadata": {},
   "source": [
    "#### check status of run"
   ]
  },
  {
   "cell_type": "code",
   "execution_count": null,
   "metadata": {},
   "outputs": [],
   "source": [
    "run_id = 1\n",
    "r = requests.get(f\"{url_stub}/job/jobs/{job_id}/runs/{run_id}\", headers=headers)\n",
    "\n",
    "print(r.status_code)\n",
    "print(r.reason)\n",
    "for key, value in r.json().items():\n",
    "    print(key, value)"
   ]
  },
  {
   "attachments": {},
   "cell_type": "markdown",
   "metadata": {},
   "source": [
    "#### retrieve runs for job\n"
   ]
  },
  {
   "cell_type": "code",
   "execution_count": null,
   "metadata": {},
   "outputs": [],
   "source": [
    "r = requests.get(f\"{url_stub}/job/jobs/{job_id}/runs/\", headers=headers)\n",
    "print(r.status_code)\n",
    "print(r.reason)\n",
    "\n",
    "for item in r.json():\n",
    "    print(item)"
   ]
  },
  {
   "attachments": {},
   "cell_type": "markdown",
   "metadata": {},
   "source": [
    "#### retrieve results for run"
   ]
  },
  {
   "cell_type": "code",
   "execution_count": null,
   "metadata": {},
   "outputs": [],
   "source": [
    "run_id = 2\n",
    "r = requests.get(f\"{url_stub}/job/jobs/{job_id}/runs/{run_id}/get-csv-results/\", headers=headers)\n",
    "print(r.status_code)\n",
    "print(r.reason)\n",
    "print(r.text)"
   ]
  },
  {
   "attachments": {},
   "cell_type": "markdown",
   "metadata": {},
   "source": [
    "#### post a refinement"
   ]
  },
  {
   "cell_type": "code",
   "execution_count": null,
   "metadata": {},
   "outputs": [],
   "source": [
    "payload = {\n",
    "    \"refined\": [{\"statistic_id\": 6, \"epsilon\": 1},\n",
    "    {\"statistic_id\": 7, \"epsilon\": 2},]\n",
    "}\n",
    "run_id=1\n",
    "payload = json.dumps(payload).encode()\n",
    "headers[\"Content-Type\"] = \"application/json\"\n",
    "r = requests.post(f\"{url_stub}/job/jobs/{job_id}/runs/{run_id}/refine/\", headers=headers, data=payload)\n",
    "\n",
    "print(r.status_code)\n",
    "print(r.reason)\n",
    "for key, value in r.json().items():\n",
    "    print(key, value)"
   ]
  },
  {
   "attachments": {},
   "cell_type": "markdown",
   "metadata": {},
   "source": [
    "#### release statistics"
   ]
  },
  {
   "cell_type": "code",
   "execution_count": null,
   "metadata": {},
   "outputs": [],
   "source": [
    "payload = {\n",
    "    \"released\": [{\"statistic_id\": 6, \"epsilon\": 1},\n",
    "    {\"statistic_id\": 7, \"epsilon\": 2},]\n",
    "}\n",
    "payload = json.dumps(payload).encode()\n",
    "headers[\"Content-Type\"] = \"application/json\"\n",
    "r = requests.post(f\"{url_stub}/job/jobs/{job_id}/runs/{run_id}/release/\", headers=headers, data=payload)\n",
    "\n",
    "print(r.status_code)\n",
    "print(r.reason)\n"
   ]
  },
  {
   "attachments": {},
   "cell_type": "markdown",
   "metadata": {},
   "source": [
    "### /api/budget"
   ]
  },
  {
   "attachments": {},
   "cell_type": "markdown",
   "metadata": {},
   "source": [
    "#### retrieve current budget of user"
   ]
  },
  {
   "cell_type": "code",
   "execution_count": null,
   "metadata": {},
   "outputs": [],
   "source": [
    "r = requests.get(f\"{url_stub}/budget/budget/\", headers=headers)\n",
    "\n",
    "print(r.status_code)\n",
    "print(r.reason)\n",
    "print(r.text)\n",
    "\n"
   ]
  }
 ],
 "metadata": {
  "interpreter": {
   "hash": "aee8b7b246df8f9039afb4144a1f6fd8d2ca17a180786b69acc140d282b71a49"
  },
  "kernelspec": {
   "display_name": "Python 3.9.1 64-bit",
   "name": "python3"
  },
  "language_info": {
   "codemirror_mode": {
    "name": "ipython",
    "version": 3
   },
   "file_extension": ".py",
   "mimetype": "text/x-python",
   "name": "python",
   "nbconvert_exporter": "python",
   "pygments_lexer": "ipython3",
   "version": "3.10.9"
  },
  "orig_nbformat": 4
 },
 "nbformat": 4,
 "nbformat_minor": 2
}
